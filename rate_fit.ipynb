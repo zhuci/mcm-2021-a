{
 "cells": [
  {
   "cell_type": "code",
   "execution_count": 2,
   "metadata": {},
   "outputs": [
    {
     "data": {
      "text/html": [
       "<div>\n",
       "<style scoped>\n",
       "    .dataframe tbody tr th:only-of-type {\n",
       "        vertical-align: middle;\n",
       "    }\n",
       "\n",
       "    .dataframe tbody tr th {\n",
       "        vertical-align: top;\n",
       "    }\n",
       "\n",
       "    .dataframe thead th {\n",
       "        text-align: right;\n",
       "    }\n",
       "</style>\n",
       "<table border=\"1\" class=\"dataframe\">\n",
       "  <thead>\n",
       "    <tr style=\"text-align: right;\">\n",
       "      <th></th>\n",
       "      <th>temp.niche.low</th>\n",
       "      <th>temp.niche.high</th>\n",
       "      <th>temp.max.rate</th>\n",
       "      <th>temp.temp.at.max.rate</th>\n",
       "      <th>water.niche.low</th>\n",
       "      <th>water.high</th>\n",
       "      <th>water.max.r</th>\n",
       "      <th>water.mpa.at.max.r</th>\n",
       "      <th>ext_rate_10</th>\n",
       "      <th>ext_rate_16</th>\n",
       "      <th>ext_rate_22</th>\n",
       "      <th>decomp_rate_mean</th>\n",
       "      <th>ranking</th>\n",
       "    </tr>\n",
       "  </thead>\n",
       "  <tbody>\n",
       "    <tr>\n",
       "      <th>0</th>\n",
       "      <td>7.442857</td>\n",
       "      <td>30.571429</td>\n",
       "      <td>0.768110</td>\n",
       "      <td>23.814286</td>\n",
       "      <td>0.368571</td>\n",
       "      <td>3.412857</td>\n",
       "      <td>0.883828</td>\n",
       "      <td>-0.760000</td>\n",
       "      <td>0.478571</td>\n",
       "      <td>0.627143</td>\n",
       "      <td>0.721429</td>\n",
       "      <td>7.015714</td>\n",
       "      <td>0.374426</td>\n",
       "    </tr>\n",
       "    <tr>\n",
       "      <th>1</th>\n",
       "      <td>15.140000</td>\n",
       "      <td>32.680000</td>\n",
       "      <td>11.885342</td>\n",
       "      <td>28.540000</td>\n",
       "      <td>0.200000</td>\n",
       "      <td>1.764000</td>\n",
       "      <td>9.888537</td>\n",
       "      <td>-0.428000</td>\n",
       "      <td>3.224000</td>\n",
       "      <td>6.880000</td>\n",
       "      <td>8.762000</td>\n",
       "      <td>17.648000</td>\n",
       "      <td>0.878003</td>\n",
       "    </tr>\n",
       "    <tr>\n",
       "      <th>2</th>\n",
       "      <td>19.057143</td>\n",
       "      <td>32.157143</td>\n",
       "      <td>7.077370</td>\n",
       "      <td>29.228571</td>\n",
       "      <td>0.327143</td>\n",
       "      <td>1.944286</td>\n",
       "      <td>4.284339</td>\n",
       "      <td>-0.597143</td>\n",
       "      <td>0.948571</td>\n",
       "      <td>2.375714</td>\n",
       "      <td>5.042857</td>\n",
       "      <td>6.007143</td>\n",
       "      <td>0.515761</td>\n",
       "    </tr>\n",
       "    <tr>\n",
       "      <th>3</th>\n",
       "      <td>16.577778</td>\n",
       "      <td>31.255556</td>\n",
       "      <td>1.313477</td>\n",
       "      <td>26.944444</td>\n",
       "      <td>0.247778</td>\n",
       "      <td>2.420000</td>\n",
       "      <td>1.116078</td>\n",
       "      <td>-0.536667</td>\n",
       "      <td>0.321111</td>\n",
       "      <td>0.583333</td>\n",
       "      <td>1.078889</td>\n",
       "      <td>3.467778</td>\n",
       "      <td>0.277910</td>\n",
       "    </tr>\n",
       "    <tr>\n",
       "      <th>4</th>\n",
       "      <td>16.600000</td>\n",
       "      <td>34.200000</td>\n",
       "      <td>12.161347</td>\n",
       "      <td>30.400000</td>\n",
       "      <td>0.120000</td>\n",
       "      <td>1.310000</td>\n",
       "      <td>11.397738</td>\n",
       "      <td>-0.260000</td>\n",
       "      <td>3.300000</td>\n",
       "      <td>5.850000</td>\n",
       "      <td>8.670000</td>\n",
       "      <td>34.010000</td>\n",
       "      <td>0.788430</td>\n",
       "    </tr>\n",
       "    <tr>\n",
       "      <th>5</th>\n",
       "      <td>20.800000</td>\n",
       "      <td>30.100000</td>\n",
       "      <td>7.549717</td>\n",
       "      <td>27.300000</td>\n",
       "      <td>0.100000</td>\n",
       "      <td>1.290000</td>\n",
       "      <td>4.777815</td>\n",
       "      <td>-0.240000</td>\n",
       "      <td>0.360000</td>\n",
       "      <td>1.280000</td>\n",
       "      <td>4.620000</td>\n",
       "      <td>21.870000</td>\n",
       "      <td>0.284747</td>\n",
       "    </tr>\n",
       "    <tr>\n",
       "      <th>6</th>\n",
       "      <td>20.400000</td>\n",
       "      <td>37.625000</td>\n",
       "      <td>10.646496</td>\n",
       "      <td>33.425000</td>\n",
       "      <td>0.222500</td>\n",
       "      <td>1.685000</td>\n",
       "      <td>4.696383</td>\n",
       "      <td>-0.425000</td>\n",
       "      <td>1.442500</td>\n",
       "      <td>2.792500</td>\n",
       "      <td>5.700000</td>\n",
       "      <td>13.105000</td>\n",
       "      <td>0.634340</td>\n",
       "    </tr>\n",
       "  </tbody>\n",
       "</table>\n",
       "</div>"
      ],
      "text/plain": [
       "   temp.niche.low  temp.niche.high  temp.max.rate  temp.temp.at.max.rate  \\\n",
       "0        7.442857        30.571429       0.768110              23.814286   \n",
       "1       15.140000        32.680000      11.885342              28.540000   \n",
       "2       19.057143        32.157143       7.077370              29.228571   \n",
       "3       16.577778        31.255556       1.313477              26.944444   \n",
       "4       16.600000        34.200000      12.161347              30.400000   \n",
       "5       20.800000        30.100000       7.549717              27.300000   \n",
       "6       20.400000        37.625000      10.646496              33.425000   \n",
       "\n",
       "   water.niche.low  water.high  water.max.r  water.mpa.at.max.r  ext_rate_10  \\\n",
       "0         0.368571    3.412857     0.883828           -0.760000     0.478571   \n",
       "1         0.200000    1.764000     9.888537           -0.428000     3.224000   \n",
       "2         0.327143    1.944286     4.284339           -0.597143     0.948571   \n",
       "3         0.247778    2.420000     1.116078           -0.536667     0.321111   \n",
       "4         0.120000    1.310000    11.397738           -0.260000     3.300000   \n",
       "5         0.100000    1.290000     4.777815           -0.240000     0.360000   \n",
       "6         0.222500    1.685000     4.696383           -0.425000     1.442500   \n",
       "\n",
       "   ext_rate_16  ext_rate_22  decomp_rate_mean   ranking  \n",
       "0     0.627143     0.721429          7.015714  0.374426  \n",
       "1     6.880000     8.762000         17.648000  0.878003  \n",
       "2     2.375714     5.042857          6.007143  0.515761  \n",
       "3     0.583333     1.078889          3.467778  0.277910  \n",
       "4     5.850000     8.670000         34.010000  0.788430  \n",
       "5     1.280000     4.620000         21.870000  0.284747  \n",
       "6     2.792500     5.700000         13.105000  0.634340  "
      ]
     },
     "execution_count": 2,
     "metadata": {},
     "output_type": "execute_result"
    }
   ],
   "source": [
    "from sklearn.linear_model import LinearRegression\n",
    "from scipy.stats import skewnorm\n",
    "import csv\n",
    "import matplotlib.pyplot as plt\n",
    "import pandas as pd\n",
    "import numpy as np\n",
    "\n",
    "data = []\n",
    "\n",
    "with open('clusters.csv', newline='') as csvfile:\n",
    "    reader = csv.reader(csvfile, delimiter=',')\n",
    "    headers = next(reader)\n",
    "    for row in reader:\n",
    "        data.append([float(i) for i in row])\n",
    "df = pd.DataFrame(data, columns = headers)\n",
    "df"
   ]
  },
  {
   "cell_type": "code",
   "execution_count": 62,
   "metadata": {},
   "outputs": [],
   "source": [
    "#linear fit\n",
    "results = [['cluster', 'm_l', 'b_l', 'm_r', 'b_r', 'max_rate_temp']]\n",
    "\n",
    "for ind, cluster in enumerate(data):\n",
    "    max_rate_temp = cluster[3]\n",
    "    max_rate = cluster[2]\n",
    "    #low, high, at max rate, 10, 16, 22\n",
    "    d = {'temp': [cluster[0], cluster[1], max_rate_temp, 10, 16, 22], 'rate': [max_rate/2, max_rate/2, max_rate, cluster[8], cluster[9], cluster[10]]}\n",
    "    df_c = pd.DataFrame(data=d)\n",
    "    df_left = df_c[df_c['temp'] <= max_rate_temp]\n",
    "    df_right = df_c[df_c['temp'] >= max_rate_temp]\n",
    "    \n",
    "    lr_left = LinearRegression()\n",
    "    lr_left.fit([[x] for x in df_left['temp']], df_left['rate'])\n",
    "    lr_right = LinearRegression()\n",
    "    lr_right.fit([[x] for x in df_right['temp']], df_right['rate'])\n",
    "    results.append([ind, lr_left.coef_[0], lr_left.intercept_, lr_right.coef_[0], lr_right.intercept_, max_rate_temp])"
   ]
  },
  {
   "cell_type": "code",
   "execution_count": 63,
   "metadata": {},
   "outputs": [
    {
     "data": {
      "text/plain": [
       "[['cluster', 'm_l', 'b_l', 'm_r', 'b_r', 'max_rate_temp'],\n",
       " [0,\n",
       "  0.022386547685008133,\n",
       "  0.24100277319592833,\n",
       "  -0.056836883139534916,\n",
       "  2.1216396520514964,\n",
       "  23.814285714285717],\n",
       " [1,\n",
       "  0.4511062934641121,\n",
       "  -0.9326824015779609,\n",
       "  -1.435427775917874,\n",
       "  52.85245070929612,\n",
       "  28.54],\n",
       " [2,\n",
       "  0.33043631915786953,\n",
       "  -2.566619749282973,\n",
       "  -1.2083315103658525,\n",
       "  42.39517413512192,\n",
       "  29.228571428571428],\n",
       " [3,\n",
       "  0.061551791077036226,\n",
       "  -0.33596147932566056,\n",
       "  -0.1523362864304124,\n",
       "  5.418093920708335,\n",
       "  26.944444444444443],\n",
       " [4,\n",
       "  0.4379930964723925,\n",
       "  -1.1094647269754585,\n",
       "  -1.6001772394736826,\n",
       "  60.80673509999994,\n",
       "  30.4],\n",
       " [5,\n",
       "  0.42348668843815834,\n",
       "  -4.622498935981403,\n",
       "  -1.3481638189285714,\n",
       "  44.35458964275,\n",
       "  27.3],\n",
       " [6,\n",
       "  0.40506626023253656,\n",
       "  -3.068225454860606,\n",
       "  -1.267440053482142,\n",
       "  53.01068023689059,\n",
       "  33.425]]"
      ]
     },
     "execution_count": 63,
     "metadata": {},
     "output_type": "execute_result"
    }
   ],
   "source": [
    "results"
   ]
  },
  {
   "cell_type": "code",
   "execution_count": 6,
   "metadata": {},
   "outputs": [],
   "source": [
    "with open('rate_temp_fit.csv', 'w', newline='') as csvfile:\n",
    "    writer = csv.writer(csvfile, delimiter=',')\n",
    "    for row in results:\n",
    "        writer.writerow(row)"
   ]
  },
  {
   "cell_type": "code",
   "execution_count": 33,
   "metadata": {},
   "outputs": [
    {
     "name": "stdout",
     "output_type": "stream",
     "text": [
      "(-2.5582887580362454, 27.062148713494096, 10.833584699194912)\n",
      "(-0.5254053646967718, 25.332259336982702, 7.6786124360496535)\n",
      "(-1265323.2382764868, 32.15718073064016, 10.048708238174594)\n",
      "(-99438.50330970329, 31.256080208732584, 10.801189355501627)\n",
      "(-0.6018862571281477, 27.12162288670155, 8.47511634371547)\n",
      "(-5054.631151605537, 30.10497085310795, 7.141679892623237)\n",
      "(-1.4113431832605503, 34.79937084843105, 11.11814889325047)\n"
     ]
    }
   ],
   "source": [
    "#skew normal fit\n",
    "for ind, cluster in enumerate(data):\n",
    "    max_rate_temp = cluster[3]\n",
    "    max_rate = cluster[2]\n",
    "    #low, high, at max rate, 10, 16, 22\n",
    "    d = [[cluster[0], cluster[1], max_rate_temp, 10, 16, 22], [max_rate/2, max_rate/2, max_rate, cluster[8], cluster[9], cluster[10]]]\n",
    "    rv_data = []\n",
    "    for i in range(6):\n",
    "        rv_data.extend([d[0][i]]*int(round(d[1][i]*100)))\n",
    "    sn = skewnorm.fit(rv_data)\n",
    "    print(sn)\n",
    "    \n",
    "        "
   ]
  },
  {
   "cell_type": "code",
   "execution_count": 45,
   "metadata": {},
   "outputs": [
    {
     "data": {
      "image/png": "[encoded data removed]",
      "text/plain": [
       "<Figure size 432x288 with 1 Axes>"
      ]
     },
     "metadata": {
      "needs_background": "light"
     },
     "output_type": "display_data"
    }
   ],
   "source": [
    "fig, ax = plt.subplots(1, 1)\n",
    "a = sn[0]\n",
    "rv = skewnorm(a=a, loc=sn[1], scale=sn[2])\n",
    "x = np.linspace(skewnorm.ppf(0.01, a=a, loc=sn[1], scale=sn[2]),\n",
    "                skewnorm.ppf(0.99, a=a, loc=sn[1], scale=sn[2]), 100)\n",
    "ax.plot(x, rv.pdf(x)*20*max_rate, 'k-', lw=2, label='frozen pdf')\n",
    "ax.scatter(d[0], d[1])\n",
    "plt.show()"
   ]
  },
  {
   "cell_type": "code",
   "execution_count": 60,
   "metadata": {},
   "outputs": [
    {
     "name": "stdout",
     "output_type": "stream",
     "text": [
      "[[Model]]\n",
      "    Model(skewed_gaussian)\n",
      "[[Fit Statistics]]\n",
      "    # fitting method   = leastsq\n",
      "    # function evals   = 51\n",
      "    # data points      = 6\n",
      "    # variables        = 4\n",
      "    chi-square         = 0.20495663\n",
      "    reduced chi-square = 0.10247831\n",
      "    Akaike info crit   = -12.2602982\n",
      "    Bayesian info crit = -13.0932603\n",
      "[[Variables]]\n",
      "    amplitude:  191.326347 +/- 6.66008679 (3.48%) (init = 127.1302)\n",
      "    center:     37.3511322 +/- 0.41063763 (1.10%) (init = 33.425)\n",
      "    sigma:      13.0221733 +/- 0.96296699 (7.39%) (init = 4.604167)\n",
      "    gamma:     -5.46926575 +/- 3.04005155 (55.58%) (init = 0)\n",
      "[[Correlations]] (unreported correlations are < 0.100)\n",
      "    C(sigma, gamma)      = -0.921\n",
      "    C(center, sigma)     =  0.921\n",
      "    C(center, gamma)     = -0.898\n",
      "    C(amplitude, gamma)  =  0.706\n",
      "    C(amplitude, center) = -0.607\n",
      "    C(amplitude, sigma)  = -0.535\n"
     ]
    },
    {
     "name": "stderr",
     "output_type": "stream",
     "text": [
      "<ipython-input-60-c33dc52217d3>:20: UserWarning: Matplotlib is currently using module://ipykernel.pylab.backend_inline, which is a non-GUI backend, so cannot show the figure.\n",
      "  fig.show()\n"
     ]
    },
    {
     "data": {
      "image/png": "[encoded data removed]",
      "text/plain": [
       "<Figure size 432x288 with 1 Axes>"
      ]
     },
     "metadata": {
      "needs_background": "light"
     },
     "output_type": "display_data"
    }
   ],
   "source": [
    "from lmfit.models import SkewedGaussianModel\n",
    "import pylab\n",
    "\n",
    "x, y =d[0], d[1]\n",
    "x = np.array(x)\n",
    "y = np.array(y)\n",
    "model = SkewedGaussianModel()\n",
    "\n",
    "# set initial parameter values\n",
    "pars = model.guess(y, x=x)\n",
    "\n",
    "# adjust parameters  to best fit data.\n",
    "result = model.fit(y, pars, x=x)\n",
    "\n",
    "print(result.fit_report())\n",
    "fig, ax = plt.subplots(1, 1)\n",
    "ax.scatter(x, y, label='data')\n",
    "ax.plot(np.sort(x), result.best_fit, label='fit') \n",
    "fig.legend()\n",
    "fig.show()"
   ]
  },
  {
   "cell_type": "code",
   "execution_count": 8,
   "metadata": {},
   "outputs": [],
   "source": [
    "#water rate fit\n",
    "results = [['cluster', 'm_l', 'b_l', 'm_r', 'b_r', 'max_rate_water']]\n",
    "\n",
    "for ind, cluster in enumerate(data):\n",
    "    x = [-1*cluster[4], -1*cluster[5], cluster[7]] #low(high when neg), high(low when neg), at max rate\n",
    "    m_l = .5/(x[2]-x[1])\n",
    "    b_l = 1 - m_l*x[2]\n",
    "    m_r = -.5/(x[0]-x[2])\n",
    "    b_r = 1 - m_r*x[2]\n",
    "    results.append([ind, m_l, b_l, m_r, b_r, cluster[7]])"
   ]
  },
  {
   "cell_type": "code",
   "execution_count": 9,
   "metadata": {},
   "outputs": [
    {
     "data": {
      "text/plain": [
       "[['cluster', 'm_l', 'b_l', 'm_r', 'b_r', 'max_rate_water'],\n",
       " [0,\n",
       "  0.1884760366182014,\n",
       "  1.143241787829833,\n",
       "  -1.2773722627737225,\n",
       "  0.02919708029197088,\n",
       "  -0.76],\n",
       " [1,\n",
       "  0.3742514970059881,\n",
       "  1.160179640718563,\n",
       "  -2.192982456140351,\n",
       "  0.06140350877192979,\n",
       "  -0.428],\n",
       " [2,\n",
       "  0.3711558854718982,\n",
       "  1.2216330858960764,\n",
       "  -1.8518518518518514,\n",
       "  -0.10582010582010559,\n",
       "  -0.5971428571428572],\n",
       " [3,\n",
       "  0.26548672566371684,\n",
       "  1.1424778761061947,\n",
       "  -1.7307692307692308,\n",
       "  0.07115384615384623,\n",
       "  -0.5366666666666666],\n",
       " [4,\n",
       "  0.47619047619047616,\n",
       "  1.1238095238095238,\n",
       "  -3.571428571428571,\n",
       "  0.07142857142857151,\n",
       "  -0.26],\n",
       " [5,\n",
       "  0.47619047619047616,\n",
       "  1.1142857142857143,\n",
       "  -3.5714285714285716,\n",
       "  0.1428571428571428,\n",
       "  -0.24],\n",
       " [6,\n",
       "  0.3968253968253968,\n",
       "  1.1686507936507937,\n",
       "  -2.469135802469136,\n",
       "  -0.04938271604938271,\n",
       "  -0.425]]"
      ]
     },
     "execution_count": 9,
     "metadata": {},
     "output_type": "execute_result"
    }
   ],
   "source": [
    "results"
   ]
  },
  {
   "cell_type": "code",
   "execution_count": 10,
   "metadata": {},
   "outputs": [],
   "source": [
    "with open('percentmaxr_water_fit.csv', 'w', newline='') as csvfile:\n",
    "    writer = csv.writer(csvfile, delimiter=',')\n",
    "    for row in results:\n",
    "        writer.writerow(row)"
   ]
  }
 ],
 "metadata": {
  "kernelspec": {
   "display_name": "Python 3",
   "language": "python",
   "name": "python3"
  },
  "language_info": {
   "codemirror_mode": {
    "name": "ipython",
    "version": 3
   },
   "file_extension": ".py",
   "mimetype": "text/x-python",
   "name": "python",
   "nbconvert_exporter": "python",
   "pygments_lexer": "ipython3",
   "version": "3.8.5"
  }
 },
 "nbformat": 4,
 "nbformat_minor": 4
}
